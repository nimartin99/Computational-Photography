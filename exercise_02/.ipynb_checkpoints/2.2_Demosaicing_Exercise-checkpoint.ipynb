{
 "cells": [
  {
   "cell_type": "markdown",
   "metadata": {},
   "source": [
    "# 2.2 Demosaicing (30 + 40 + 20 = 90 points)\n",
    "Nowadays cameras acquire color photographs by means of using a color filter array (CFA). The most common of such CFAs is the Bayer pattern (see Figure 1). In this configuration each pixel only senses one out of the three primary colors, hence discarding about two-third of the incoming light. The recovery of the missed color information in each pixel is called demosaicing and requires quite tricky image processing to avoid the introduction of unsightly color artifacts. <br>A reasonable approach is to reconstruct the green channel first, since it has the best spatial distribution of the three color channels and therefore is less subject to noise. After the green channel is finished one can employ its information to reconstruct the red and blue channel."
   ]
  },
  {
   "cell_type": "markdown",
   "metadata": {},
   "source": [
    "<center>\n",
    "  <img width=\"668\" height=\"169\" src=\"./images/CFA.png\">\n",
    "   \n",
    "<center>\n"
   ]
  },
  {
   "cell_type": "markdown",
   "metadata": {},
   "source": [
    "\n",
    "Figure 1.The Bayer pattern with different mosaic patterns\n",
    "[1](https://pixinsight.com/doc/tools/Debayer/Debayer.html)<br>\n",
    "\n",
    "    \n",
    "  \n"
   ]
  },
  {
   "cell_type": "markdown",
   "metadata": {},
   "source": [
    "### Your Task is to implement the following functionalities:\n",
    "> a) Realize demosaicing by nearest neighbor interpolation.<br>The straightforward method is to use the color information in a 2 × 2 neighborhood to restore the colors for all 4 pixels. This procedure is quite simple but has a severe drawback.<br> <br>\n",
    "> b) Implement bilinear interpolation and compare it to nearest neighbor interpolation.<br>The most common interpolation type is bilinear interpolation. The basic scheme is to interpolate a missing pixel by averaging existing pixels in a 3 × 3- neighborhood first in one direction and then averaging the computed averages along the other direction.<br>\n",
    "\n",
    "> __Hint:__ The provided helper function convolve2D can be used in the bilinear interpolation implementation.\n",
    "    \n",
    "> __Hint:__ All exercises should be implemented in functions taking the bayer pattern image as input and returning the demosaiced image, e.g. `image = function name(bayer)`. You don’t need to implement correct boundary handling, since the results are only differing in a few boundary pixels and the induced overhead is just too high.\n",
    "    \n",
    "> c) Compare visually and numerically.<br>Give a short description of the drawbacks / artifacts of the different algorithms and explain the problem\n",
    "behind, e.g. why it happens. Use PSNR to measure the recovered image fidelity.\n",
    "\n"
   ]
  },
  {
   "cell_type": "code",
   "execution_count": null,
   "metadata": {},
   "outputs": [],
   "source": [
    "# Set path to your ppm folder TODO:\n",
    "ppm_path = \"./images\""
   ]
  },
  {
   "cell_type": "code",
   "execution_count": null,
   "metadata": {},
   "outputs": [],
   "source": [
    "# Imports\n",
    "import os\n",
    "import numpy as np\n",
    "import matplotlib.pyplot as plt"
   ]
  },
  {
   "cell_type": "code",
   "execution_count": null,
   "metadata": {
    "tags": []
   },
   "outputs": [],
   "source": [
    "# Helper functions:\n",
    "def im2bayer(image: np.ndarray) -> np.ndarray:\n",
    "    \"\"\"Computes the bayer pattern given an image.\n",
    "    Args:\n",
    "        image:\n",
    "            The input image to work on. Shape [H,W,3].\n",
    "    Returns:\n",
    "        The bayer pattern.\"\"\"\n",
    "   \n",
    "   # image=(image/255).astype(float)\n",
    "    bayer=np.zeros(image.shape)\n",
    "    \n",
    "    #RGGB pattern:\n",
    "    for i in range(0,image.shape[0],2):\n",
    "        for j in range(0,image.shape[1],2):\n",
    "            bayer[i,j,0]=image[i,j,0]  #R\n",
    "            \n",
    "    for i in range(0,image.shape[0],2):\n",
    "        for j in range(1,image.shape[1],2):\n",
    "            bayer[i,j,1]=image[i,j,1]  #G\n",
    "    \n",
    "    for i in range(1,image.shape[0],2):\n",
    "        for j in range(0, image.shape[1],2):\n",
    "            bayer[i,j,1]=image[i,j,1]  #G\n",
    "            \n",
    "    for i in range(1, image.shape[0],2):\n",
    "        for j in range(1, image.shape[1],2):       \n",
    "            bayer[i,j,2]=image[i,j,2]  #B\n",
    "  \n",
    "    return bayer\n",
    "\n",
    "def convolve2D(image: np.ndarray, kernel: np.ndarray, padding:int = 0, strides: int = 1) -> np.ndarray:\n",
    "    \"\"\" Cross Correlation of the given image with the given kernel, equivalent to filter2D.\n",
    "    Args:\n",
    "        image:\n",
    "            The input image to work on. Shape [H,W,3].\n",
    "        kernel: \n",
    "            The kernel to be slided/convolved with over/with the image. Shape example here: [2,2,3]\n",
    "    Returns:\n",
    "        output:\n",
    "            The convolved/2D filtered image.\"\"\"\n",
    "        \n",
    "    kernel = np.flipud(np.fliplr(kernel))\n",
    "\n",
    "    # Gather Shapes of Kernel + Image + Padding.\n",
    "    x_kern_shape = kernel.shape[0]\n",
    "    y_kern_shape = kernel.shape[1]\n",
    "    x_img_shape = image.shape[0]\n",
    "    y_img_shape = image.shape[1]\n",
    "\n",
    "    # Shape of Output Convolution.\n",
    "    x_output = int(((x_img_shape - x_kern_shape + 2 * padding) / strides) + 1)\n",
    "    y_output = int(((y_img_shape - y_kern_shape + 2 * padding) / strides) + 1)\n",
    "    output = np.zeros((x_output, y_output))\n",
    "\n",
    "    # Apply Equal Padding to All Sides.\n",
    "    if padding != 0:\n",
    "        image_padded = np.zeros((image.shape[0] + padding*2, image.shape[1] + padding*2))\n",
    "        image_padded[int(padding):int(-1 * padding), int(padding):int(-1 * padding)] = image\n",
    "        #print(imagePadded)\n",
    "    else:\n",
    "        image_padded = image\n",
    "\n",
    "    # Iterate through image.\n",
    "    for y in range(image.shape[1]):\n",
    "        # Exit Convolution.\n",
    "        if y > image.shape[1] - y_kern_shape:\n",
    "            break\n",
    "        # Only Convolve if y has gone down by the specified Strides.\n",
    "        if y % strides == 0:\n",
    "            for x in range(image.shape[0]):\n",
    "                # Go to next row once kernel is out of bounds.\n",
    "                if x > image.shape[0] - x_kern_shape:\n",
    "                    break\n",
    "                try:\n",
    "                    # Only Convolve if x has moved by the specified Strides.\n",
    "                    if x % strides == 0:\n",
    "                        output[x, y] = (kernel * image_padded[x: x + x_kern_shape, y: y + y_kern_shape]).sum()\n",
    "                except:\n",
    "                    break\n",
    "\n",
    "    return output\n"
   ]
  },
  {
   "cell_type": "markdown",
   "metadata": {},
   "source": [
    "### a) Nearest Neighbor (30)\n",
    "Realize demosaicing by _nearest neighbor_ interpolation.<br>The straightforward method is to use the color information in a 2 × 2 neighborhood to restore the colors for all 4 pixels.\n",
    "\n",
    "__Hint:__ Take a look at the im2bayer function to figure out the CFA layout."
   ]
  },
  {
   "cell_type": "code",
   "execution_count": null,
   "metadata": {},
   "outputs": [],
   "source": [
    "# TODO:"
   ]
  },
  {
   "cell_type": "markdown",
   "metadata": {},
   "source": [
    "### b) Bilinear Interpolation (40)\n",
    "Implement _bilinear interpolation_ and compare it to nearest neighbor interpolation.<br>The most common interpolation type is bilinear interpolation. The basic scheme is to interpolate a missing pixel by averaging existing pixels in a 3 × 3- neighborhood first in one direction and then averaging the computed averages along the other direction.\n"
   ]
  },
  {
   "cell_type": "code",
   "execution_count": null,
   "metadata": {},
   "outputs": [],
   "source": [
    "# TODO:"
   ]
  },
  {
   "cell_type": "markdown",
   "metadata": {},
   "source": [
    "### c) Comparison (20)\n",
    "Compare visually and numerically.\n",
    "Display all of your results: The image (ref), the computed bayer pattern, the nearest neighbor (nn) and bilinear interpolated results.\n",
    "Calculate the psnr between the nn and image ref, and the bilinear and image ref and write out the result.\n",
    "\n",
    "__Hint:__ Create a plot with subplots for each image and give them a title so you know what you are looking at."
   ]
  },
  {
   "cell_type": "code",
   "execution_count": null,
   "metadata": {},
   "outputs": [],
   "source": [
    "# Read the image.\n",
    "\n",
    "# Display the image here:\n",
    "\n",
    "\n",
    "# Compute bayer image using the helper function:im2bayer and dispay the bayer image.\n",
    "\n",
    "# Display the bayer image.\n",
    "\n",
    "\n",
    "# Debayer the bayer image with nn interpolation method here:\n",
    "\n",
    "# Display the nn interpolated result here:\n",
    "\n",
    "\n",
    "# Debayer the bayer image with bilinear interpolation method here.\n",
    "\n",
    "# Display the bilinear interpolated result.\n",
    " \n",
    "# Calculate the psnr between the bilinar interpolated image and nearest neighbor interpolated image here."
   ]
  },
  {
   "cell_type": "markdown",
   "metadata": {},
   "source": [
    "#### Put your written answer here. What artifacts are visible and how can they be explained?"
   ]
  },
  {
   "cell_type": "code",
   "execution_count": null,
   "metadata": {},
   "outputs": [],
   "source": [
    "# Write down some explanation for the visual results."
   ]
  }
 ],
 "metadata": {
  "kernelspec": {
   "display_name": "Python 3 (ipykernel)",
   "language": "python",
   "name": "python3"
  },
  "language_info": {
   "codemirror_mode": {
    "name": "ipython",
    "version": 3
   },
   "file_extension": ".py",
   "mimetype": "text/x-python",
   "name": "python",
   "nbconvert_exporter": "python",
   "pygments_lexer": "ipython3",
   "version": "3.9.1"
  }
 },
 "nbformat": 4,
 "nbformat_minor": 4
}
